{
 "cells": [
  {
   "cell_type": "markdown",
   "metadata": {},
   "source": [
    "# Walkthrough of Signal/Slot Code in Prismatic Qt\n",
    "### Luis Rangel DaCosta, 6-27-2020\n",
    "based off of code at lerandc/prismatic master branch @ commit  849cc84826a6a484c44bc6a33f9d99e8af2483e1\n",
    "\n",
    "We're going to walk through each type of signal/slot currently used in the Prismatic GUI and how they are implemented, using an example of each. We'll start with one of the simplest features, the button."
   ]
  },
  {
   "cell_type": "markdown",
   "metadata": {},
   "source": [
    "# Button\n",
    "## example: btn_reset\n",
    "resets the state of the calculation"
   ]
  },
  {
   "cell_type": "markdown",
   "metadata": {},
   "source": [
    "## Widget code in prismqtmainwindow.ui\n",
    "This code is generated automatically by the Qt creator editor. The actual visual component and interactivity of the button is defined here"
   ]
  },
  {
   "cell_type": "markdown",
   "metadata": {},
   "source": [
    "From: prismmainwindow.ui line 4585\n",
    "```\n",
    "<widget class=\"QPushButton\" name=\"btn_reset\">\n",
    " <property name=\"enabled\">\n",
    "  <bool>true</bool>\n",
    " </property>\n",
    " <property name=\"minimumSize\">\n",
    "  <size>\n",
    "   <width>0</width>\n",
    "   <height>50</height>\n",
    "  </size>\n",
    " </property>\n",
    " <property name=\"maximumSize\">\n",
    "  <size>\n",
    "   <width>16777215</width>\n",
    "   <height>16777215</height>\n",
    "  </size>\n",
    " </property>\n",
    " <property name=\"font\">\n",
    "  <font>\n",
    "   <family>Roboto</family>\n",
    "   <pointsize>14</pointsize>\n",
    "  </font>\n",
    " </property>\n",
    " <property name=\"layoutDirection\">\n",
    "  <enum>Qt::RightToLeft</enum>\n",
    " </property>\n",
    " <property name=\"text\">\n",
    "  <string>Reset Calculation</string>\n",
    " </property>\n",
    "</widget>\n",
    "```"
   ]
  },
  {
   "cell_type": "markdown",
   "metadata": {},
   "source": [
    "## Connection to Slot\n",
    "This code is manually created. Loosely, this code can be understood like this: if the GUI window gets a notification `clicked()` from the button called `btn_reset`, run the code `resetCalculation()`."
   ]
  },
  {
   "cell_type": "markdown",
   "metadata": {},
   "source": [
    "From: prismmainwindow.cpp line 382\n",
    "```\n",
    "connect(this->ui->btn_reset, SIGNAL(clicked()), this, SLOT(resetCalculation()));\n",
    "```"
   ]
  },
  {
   "cell_type": "markdown",
   "metadata": {},
   "source": [
    "Let's break this down a bit more though. From the Qt5 documentation (https://wiki.qt.io/New_Signal_Slot_Syntax), the syntax for `connect` looks like this:\n",
    "```\n",
    "connect(\n",
    "    sender, SIGNAL( valueChanged( QString, QString ) ),\n",
    "    receiver, SLOT( updateValue( QString ) )\n",
    ");\n",
    "```"
   ]
  },
  {
   "cell_type": "markdown",
   "metadata": {},
   "source": [
    "### Sender"
   ]
  },
  {
   "cell_type": "markdown",
   "metadata": {},
   "source": [
    "`sender` :: `this->ui->btn_reset`\n",
    "\n",
    "`this` refers to the parent object held by the host thread. When we started up the GUI, we exectuted the following code (from `prismatic/Qt/main.cpp')\n",
    "```\n",
    "PRISMMainWindow w;\n",
    "    w.show();\n",
    "```\n",
    "\n",
    "Here, we are declaring a `PRISMMainWindow` object (whose class is defined in `prismmainwindow.h`). When the object is declared, it is set up by the class's constructor function, and when we are in the scope of the explicit constructor `explicit PRISMMainWindow(QWidget *parent = 0);` (which is where all the signals and slots are connected), `this` refers to the primary GUI object. \n",
    "\n",
    "`this` then looks at its private member `ui`, which is an object whose class is defined in `prismmainwindow.ui`. `ui` now looks for a member called `btn_reset` and finds the widget code we looked at above. \n",
    "\n",
    "So, in the end, the `sender` is the reset button that is a member of the UI object that is a member of the PRISMMainWindow object that was created when the GUI execution began."
   ]
  },
  {
   "cell_type": "markdown",
   "metadata": {},
   "source": [
    "### Signal"
   ]
  },
  {
   "cell_type": "markdown",
   "metadata": {},
   "source": [
    "`SIGNAL( valueChanged( QString, QString ) )` :: `SIGNAL(clicked())`\n",
    "\n",
    "We've now established that we're listening to the `sender`, `btn_reset`, for *something*. Here, we define that something as `clicked()`. This, of course, is clear to us what this means-- whenever the button is clicked, that's the signal. For comprehensiveness, though, let's take a look at where this signal comes from.\n",
    "\n",
    "We can see that in the widget code, the button was created as an object usign the class `QPushButton`. From the API reference for Qt (https://doc.qt.io/qt-5/qpushbutton.html), we can see what member functions this class has. All of the members are listed here: https://doc.qt.io/qt-5/qpushbutton-members.html. `clicked()` looks like an inherited member from `QAbstractButton`, which defines the state as:\n",
    "\n",
    ">void QAbstractButton::clicked(bool checked = false)\n",
    ">>This signal is emitted when the button is activated (i.e., pressed down then released while the mouse cursor is inside the button), when the shortcut key is typed, or when click() or animateClick() is called. Notably, this signal is not emitted if you call setDown(), setChecked() or toggle().\n",
    ">>\n",
    ">>If the button is checkable, checked is true if the button is checked, or false if the button is unchecked.\n",
    "\n",
    "Looking at the `QAbstractButton` class, we can also see that there are three other signals that we could use in the `SIGNAL()` call-- `pressed()`, `released()`, and `toggled()`."
   ]
  },
  {
   "cell_type": "markdown",
   "metadata": {},
   "source": [
    "### Receiver"
   ]
  },
  {
   "cell_type": "markdown",
   "metadata": {},
   "source": [
    "`receiver` :: `this`\n",
    "\n",
    "Similar to the `sender`, `this`, in the context of the constructor call, is referring to the object that is being constructed, the `PRISMMainWindow`. Here, it's just the object is listening to itself (in fact, this is all the signals and slots for our GUI- there is just a single, monolithic GUI object existing in its own little ecosystem). You could imagine, however, in a more complex GUI program that there are seperate objects created for different features that exist in their own space and time and connect to eachother and communicate through these signals and slots through some sort of networking paradigm."
   ]
  },
  {
   "cell_type": "markdown",
   "metadata": {},
   "source": [
    "### Slot"
   ]
  },
  {
   "cell_type": "markdown",
   "metadata": {},
   "source": [
    "`SLOT( updateValue( QString ) )` :: `SLOT(resetCalculation()))`\n",
    "\n",
    "Here, the slot is just a function that should be called when the signal is heard by the `receiver`. All the slots available are defined in the `PRISMMainWindow` class as members that are all `public slots`. These are all `void` functions, and since they are members of the object, it's important to note that they can access the parent object through the same `this->` operator."
   ]
  },
  {
   "cell_type": "markdown",
   "metadata": {},
   "source": [
    "## Execution Code (the Slot)"
   ]
  },
  {
   "cell_type": "markdown",
   "metadata": {},
   "source": [
    "All the member functions are defined in `prismmainwindow.cpp` using the class namespace `PRISMMainWindow`."
   ]
  },
  {
   "cell_type": "markdown",
   "metadata": {},
   "source": [
    "From prismmainwindow.cpp, line 2306:\n",
    "```\n",
    "void PRISMMainWindow::resetCalculation(){\n",
    "    QMutexLocker gatekeeper(&dataLock);\n",
    "    std::cout << \"Resetting Calculation\" << std::endl;\n",
    "    outputReady     = false;\n",
    "    ScompactReady   = false;\n",
    "    potentialReady  = false;\n",
    "    probeSetupReady = false;\n",
    "}\n",
    "```"
   ]
  },
  {
   "cell_type": "markdown",
   "metadata": {},
   "source": [
    "We can see here what `resetCalculation()` now does. First, it locks the data that is owned by the parent object by using the `QMutexLocker` on the `dataLock` Qmutex (a private member of the parent). Then, it changes the state of `outputReady`, `ScompactReady`, `potentialReady`, and `probeSetupReady` to false (also all private members). Like mentioned above, each of these slots, as members of the parent `PRISMMainWindow` object, can access the members of the parent object."
   ]
  }
 ],
 "metadata": {
  "kernelspec": {
   "display_name": "C++11",
   "language": "C++11",
   "name": "xcpp11"
  },
  "language_info": {
   "codemirror_mode": "text/x-c++src",
   "file_extension": ".cpp",
   "mimetype": "text/x-c++src",
   "name": "c++",
   "version": "11"
  }
 },
 "nbformat": 4,
 "nbformat_minor": 4
}
